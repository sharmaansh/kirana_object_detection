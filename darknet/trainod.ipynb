{
  "nbformat": 4,
  "nbformat_minor": 0,
  "metadata": {
    "colab": {
      "name": "trainod",
      "provenance": []
    },
    "kernelspec": {
      "name": "python3",
      "display_name": "Python 3"
    },
    "accelerator": "GPU"
  },
  "cells": [
    {
      "cell_type": "code",
      "metadata": {
        "id": "e0YFu-bDQ64z",
        "colab_type": "code",
        "colab": {}
      },
      "source": [
        "!ls\n",
        "!git clone https://github.com/sharmaansh/darknet.git\n",
        "!apt-get update\n",
        "!apt-get upgrade\n",
        "!apt-get install build-essential\n",
        "!apt-get install cmake git libgtk2.0-dev pkg-config libavcodec-dev libavformat-dev libswscale-dev\n",
        "!apt-get -y install cmake\n",
        "!which cmake\n",
        "!cmake --version\n",
        "!apt-get install vim\n",
        "%cd darknet/\n",
        "!ls\n",
        "!sed -i 's/OPENCV=0/OPENCV=1/g' Makefile\n",
        "!sed -i 's/GPU=0/GPU=1/g' Makefile\n",
        "!ls\n",
        "%cd ../\n",
        "!ls\n",
        "!apt install g++-5\n",
        "!apt install gcc-5\n",
        "!update-alternatives --install /usr/bin/gcc gcc /usr/bin/gcc-5 10\n",
        "!update-alternatives --install /usr/bin/gcc gcc /usr/bin/gcc-5 20\n",
        "!update-alternatives --install /usr/bin/g++ g++ /usr/bin/g++-5 10\n",
        "!update-alternatives --install /usr/bin/g++ g++ /usr/bin/g++-5 20\n",
        "!update-alternatives --install /usr/bin/cc cc /usr/bin/gcc 30\n",
        "!update-alternatives --set cc /usr/bin/gcc\n",
        "!update-alternatives --install /usr/bin/c++ c++ /usr/bin/g++ 30\n",
        "!update-alternatives --set c++ /usr/bin/g++\n",
        "!apt update -qq;\n",
        "!wget https://developer.nvidia.com/compute/cuda/8.0/Prod2/local_installers/cuda-repo-ubuntu1604-8-0-local-ga2_8.0.61-1_amd64-deb\n",
        "!dpkg -i cuda-repo-ubuntu1604-8-0-local-ga2_8.0.61-1_amd64-deb\n",
        "!apt-get update -qq\n",
        "!apt-get install cuda -y -qq #gcc-5 g++-5 \n",
        "!apt update\n",
        "!apt upgrade\n",
        "!apt install cuda-8.0 -y\n",
        "%cd darknet\n",
        "!ls\n",
        "!make\n",
        "!ln -s \"/content/gdrive/My Drive/darknet/\" /mydrive"
      ],
      "execution_count": 0,
      "outputs": []
    },
    {
      "cell_type": "code",
      "metadata": {
        "id": "gXW2BC-GRG7H",
        "colab_type": "code",
        "colab": {}
      },
      "source": [
        "from google.colab import drive\n",
        "drive.mount('/content/drive')"
      ],
      "execution_count": 0,
      "outputs": []
    },
    {
      "cell_type": "code",
      "metadata": {
        "id": "zRsLmIdpRLqG",
        "colab_type": "code",
        "colab": {}
      },
      "source": [
        "!./content/darknet/darknet detector train /content/darknet/data/obj.data /content/darknet/cfg/yolov3-tiny_obj.cfg /content/darknet/yolov3-tiny.conv.15 -dont_show"
      ],
      "execution_count": 0,
      "outputs": []
    }
  ]
}